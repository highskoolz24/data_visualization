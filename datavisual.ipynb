{
 "cells": [
  {
   "cell_type": "markdown",
   "metadata": {},
   "source": [
    "# Data Visualization\n",
    "\n",
    "## Part 1 - About the Data\n",
    "\n",
    "1. Name: box_office.csv\n",
    "2. Link to Data: https://www.kaggle.com/eliasdabbas/boxofficemojo-alltime-domestic-data\n",
    "3. Source / Origin: Kaggle / Elias Dabbas (movie ranking data based on lifetime gross)"
   ]
  },
  {
   "cell_type": "code",
   "execution_count": 8,
   "metadata": {},
   "outputs": [
    {
     "name": "stdout",
     "output_type": "stream",
     "text": [
      "rank                         title    studio      lifetime_gross     year\n",
      "   1  Star Wars: The Force Awakens        BV           936662225     2015\n",
      "   2                        Avatar       Fox           760507625     2009\n",
      "   3                 Black Panther        BV           700059566     2018\n",
      "   4        Avengers: Infinity War        BV           678681680     2018\n",
      "   5                       Titanic      Par.           659363944     1997\n"
     ]
    }
   ],
   "source": [
    "with open('boxoffice.csv', 'r') as f:\n",
    "    result = []\n",
    "    for line in f:\n",
    "        word = line.split(',')\n",
    "        result.append((word[0:]))\n",
    "for i in result[:6]:\n",
    "    print (format(i[0], '>4'), end='')\n",
    "    print (format(i[1], '>30'), end='')\n",
    "    print (format(i[2], '>10'), end='')\n",
    "    print (format(i[3], '>20'), end='')\n",
    "    print (format(i[4], '>10'), end='')"
   ]
  },
  {
   "cell_type": "markdown",
   "metadata": {},
   "source": [
    "4. what are ther fields / column headers?\n",
    "    - The data is consisted by rank, movie title, studio, lifetime gross and the year that was filmed.\n",
    "5. what is the likely data type for each column (you can use regular python types or numpy types) of each field.\n",
    "    - Rank, gross, year should be ints. Title and studio should be strings. However, since they are pulled out from the csv file so their current types are strings. (and manipulated when needed."
   ]
  },
  {
   "cell_type": "markdown",
   "metadata": {},
   "source": [
    "## Part 2 - Questions\n",
    "\n",
    "1. When the Top-gross movies were made mostly?\n",
    "2. How much Top-Gross movies of the year earned?\n",
    "3. Sum of Gross that were earned each year.\n",
    "\n",
    "## Part 3 - Stats and Answers"
   ]
  },
  {
   "cell_type": "code",
   "execution_count": 9,
   "metadata": {},
   "outputs": [],
   "source": [
    "import numpy as np\n",
    "import matplotlib.pyplot as plt"
   ]
  },
  {
   "cell_type": "code",
   "execution_count": 10,
   "metadata": {},
   "outputs": [],
   "source": [
    "woHead = np.delete(result,[0],axis = 0)\n",
    "grossCol = np.delete(woHead,[0,1,2,4], axis =1)\n",
    "yearCol = np.delete(woHead,[0,1,2,3], axis =1)\n",
    "for i in yearCol:\n",
    "    i[0] = int(i[0][:-1])\n",
    "grossCol=np.array(grossCol).astype(np.int)\n",
    "yearCol=np.array(yearCol).astype(np.int)"
   ]
  },
  {
   "cell_type": "code",
   "execution_count": 11,
   "metadata": {},
   "outputs": [
    {
     "name": "stdout",
     "output_type": "stream",
     "text": [
      "Gross------------------\n",
      "Max = 936662225\n",
      "Min = 30\n",
      "Mean =17981574.44578543\n",
      "Median =873196.0\n",
      "Variance =2077422185681973.0\n",
      "Standard Deviation =45578747.083284035\n",
      "\n"
     ]
    }
   ],
   "source": [
    "print('Gross------------------')\n",
    "print('Max = '+ str(np.amax(grossCol)))\n",
    "print('Min = '+ str(np.amin(grossCol)))\n",
    "print('Mean =' + str(np.mean(grossCol)))\n",
    "print('Median =' + str(np.median(grossCol)))\n",
    "print('Variance =' + str(np.var(grossCol)))\n",
    "print('Standard Deviation =' + str(np.std(grossCol)))\n",
    "print()"
   ]
  },
  {
   "cell_type": "code",
   "execution_count": 12,
   "metadata": {},
   "outputs": [
    {
     "name": "stdout",
     "output_type": "stream",
     "text": [
      "Year------------------\n",
      "Max = 2018\n",
      "Min = 1921\n",
      "Mean =2003.475258845201\n",
      "Median =2006.0\n",
      "Variance =124.41161870801027\n",
      "Standard Deviation =11.153995638694246\n",
      "\n"
     ]
    }
   ],
   "source": [
    "print('Year------------------')\n",
    "print('Max = '+ str(np.amax(yearCol)))\n",
    "print('Min = '+ str(np.amin(yearCol)))\n",
    "print('Mean =' + str(np.mean(yearCol)))\n",
    "print('Median =' + str(np.median(yearCol)))\n",
    "print('Variance =' + str(np.var(yearCol)))\n",
    "print('Standard Deviation =' + str(np.std(yearCol)))\n",
    "print()"
   ]
  },
  {
   "cell_type": "markdown",
   "metadata": {},
   "source": [
    "## Part 4 - Visualization"
   ]
  },
  {
   "cell_type": "code",
   "execution_count": 24,
   "metadata": {},
   "outputs": [
    {
     "data": {
      "text/plain": [
       "<matplotlib.collections.PathCollection at 0x24d9e368470>"
      ]
     },
     "execution_count": 24,
     "metadata": {},
     "output_type": "execute_result"
    },
    {
     "data": {
      "image/png": "[encoded data removed]",
      "text/plain": [
       "<Figure size 432x288 with 1 Axes>"
      ]
     },
     "metadata": {
      "needs_background": "light"
     },
     "output_type": "display_data"
    }
   ],
   "source": [
    "plt.yticks([0, 250000000, 500000000, 750000000, 936662225], ('0', '250mil', '500mil', '750mil', '936mil'))\n",
    "plt.style.use('seaborn-pastel')\n",
    "plt.title('Top 100 Movie gross distribution')\n",
    "plt.xlabel('Year')\n",
    "plt.ylabel('Lifetime Gross')\n",
    "plt.scatter(yearCol[:100], grossCol[:100])"
   ]
  },
  {
   "cell_type": "code",
   "execution_count": 36,
   "metadata": {},
   "outputs": [
    {
     "data": {
      "image/png": "[encoded data removed]",
      "text/plain": [
       "<Figure size 432x288 with 1 Axes>"
      ]
     },
     "metadata": {
      "needs_background": "light"
     },
     "output_type": "display_data"
    }
   ],
   "source": [
    "yearCol=yearCol.ravel()\n",
    "grossCol=grossCol.ravel()\n",
    "plt.bar(yearCol[0:100], grossCol[0:100], 1, align='center')\n",
    "plt.yticks([0, 250000000, 500000000, 750000000, 936662225], ('0', '250mil', '500mil', '750mil', '936mil'))\n",
    "plt.style.use('seaborn-pastel')\n",
    "plt.title('Top movie gross of a year')\n",
    "plt.xlabel('Year')\n",
    "plt.ylabel('Lifetime Gross')\n",
    "plt.show()"
   ]
  },
  {
   "cell_type": "markdown",
   "metadata": {},
   "source": [
    "## Part 5 - Conclusion\n",
    "\n",
    "1. describe the results of your calculations and visualizations\n",
    "    - Calculation: Max, Min, Mean, Median, Variance and StDev of the column 'gross' and 'year'\n",
    "    - Visualation 1: Distribution of top 100 movies based on gross and the year that they were made.\n",
    "    - Visualation 2: A bar graph that show the gross of the top-gross movie of each year (Limited to top 100 movies)\n",
    "2. describe whether or not they were able to answer your questions from part 2\n",
    "    - When the Top-gross movies were made mostly?\n",
    "        By limiting the data by 100 movie, it was possible to see if when the top movies were made mostly.\n",
    "        The limitation was that I tried to have the scatter with the whole data (15744 movies), and it was too hard to see.\n",
    "    - How much Top-Gross movies of the year earned?\n",
    "        I limited the data to top 100 movies, and it was possible to see approximately. However, the xticks are too many to see \n",
    "        if which gross is for which year. I think it would be possible to solve by reducing the data.\n",
    "    - Sum of Gross that were earned each year.\n",
    "        This can be visualized but the reason why I didn't do is because it is better to see with numbers. It's hard to see in \n",
    "        them in the graph since there will be a lot of fluctuation between years (for example, 1921 and 2016). Also, numbers \n",
    "        like gross are better to see in numbers. \n",
    "    - Conclustion: For the purpose of seeing the distribution or the range, it's good to visualize. However, in order to get \n",
    "                    infos like sum of gross would be better to see in numbers."
   ]
  },
  {
   "cell_type": "code",
   "execution_count": null,
   "metadata": {},
   "outputs": [],
   "source": []
  }
 ],
 "metadata": {
  "kernelspec": {
   "display_name": "Python 3",
   "language": "python",
   "name": "python3"
  },
  "language_info": {
   "codemirror_mode": {
    "name": "ipython",
    "version": 3
   },
   "file_extension": ".py",
   "mimetype": "text/x-python",
   "name": "python",
   "nbconvert_exporter": "python",
   "pygments_lexer": "ipython3",
   "version": "3.7.3"
  }
 },
 "nbformat": 4,
 "nbformat_minor": 4
}
